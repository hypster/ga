{
 "cells": [
  {
   "cell_type": "code",
   "execution_count": 47,
   "metadata": {},
   "outputs": [],
   "source": [
    "from unittest import TestCase\n",
    "\n",
    "import numpy as np\n",
    "\n",
    "from GA import GA\n",
    "from util import read_problem\n",
    "import os\n",
    "from time import time\n",
    "\n",
    "\n",
    "class Test(TestCase):\n",
    "    @staticmethod\n",
    "    def testGA(pop_size):\n",
    "        data_dir = 'data/instances_01_KP/large_scale'\n",
    "        tbl_data = []\n",
    "        solution_compare = {'ga_sol': [], 'ga_weight':[], 'actual_sol': [], 'actual_weight':[], 'found': [], 'time': []}\n",
    "        for p in os.listdir(data_dir):\n",
    "            print(p)\n",
    "            w,u,max_w, sol = read_problem(os.path.join(data_dir, p))\n",
    "            w = np.array(w)\n",
    "            u = np.array(u)\n",
    "            t = time()\n",
    "            ga = GA(pop_size=pop_size, record_intermediate=True, debug=False)\n",
    "            max_v, ga_sol, round = ga.solve(w, u, max_w)\n",
    "            solution_compare['time'].append(time()-t)\n",
    "            tbl_data.append(ga.epoch_info)\n",
    "#             print(f\"solution found by GA:\\noptimal value: {max_v}\\tweight: {sum(ga_sol * w)} \\tround: {round}\")\n",
    "#             print(f\"include items: {np.nonzero(ga_sol)}\")\n",
    "            solution_compare['actual_sol'].append(sum(sol*u))\n",
    "            solution_compare['ga_sol'].append(sum(ga_sol*u))\n",
    "            solution_compare['found'].append(round)\n",
    "            solution_compare['ga_weight'].append(sum(ga_sol*w))\n",
    "            solution_compare['actual_weight'].append(sum(sol*w))\n",
    "            \n",
    "        return tbl_data, solution_compare\n",
    "#             print(f\"solution given by the file\")\n",
    "#             print(np.nonzero(sol))\n",
    "#             print(f\"total weight: {sum(sol * w)}\")\n",
    "#             print(f\"total utility: {sum(sol * u)}\")"
   ]
  },
  {
   "cell_type": "code",
   "execution_count": 48,
   "metadata": {},
   "outputs": [
    {
     "name": "stdout",
     "output_type": "stream",
     "text": [
      "knapPI_1_5000_1000_1\n",
      "knapPI_2_100_1000_1\n",
      "knapPI_2_2000_1000_1\n",
      "knapPI_3_200_1000_1\n",
      "knapPI_1_500_1000_1\n",
      "knapPI_1_200_1000_1\n",
      "knapPI_1_10000_1000_1\n",
      "knapPI_1_2000_1000_1\n",
      "knapPI_3_1000_1000_1\n",
      "knapPI_2_5000_1000_1\n",
      "knapPI_3_500_1000_1\n",
      "knapPI_2_10000_1000_1\n",
      "knapPI_3_2000_1000_1\n",
      "knapPI_3_100_1000_1\n",
      "knapPI_1_1000_1000_1\n",
      "knapPI_3_10000_1000_1\n",
      "knapPI_2_200_1000_1\n",
      "knapPI_3_5000_1000_1\n",
      "knapPI_2_1000_1000_1\n",
      "knapPI_2_500_1000_1\n",
      "knapPI_1_100_1000_1\n"
     ]
    }
   ],
   "source": [
    "tbl_data, solution_compare = Test.testGA(pop_size=10)"
   ]
  },
  {
   "cell_type": "code",
   "execution_count": 50,
   "metadata": {},
   "outputs": [],
   "source": [
    "# solution_compare"
   ]
  },
  {
   "cell_type": "code",
   "execution_count": 24,
   "metadata": {},
   "outputs": [],
   "source": [
    "import matplotlib.pylab as plt\n",
    "import seaborn as sn\n",
    "import pandas as pd\n",
    "sn.set()"
   ]
  },
  {
   "cell_type": "code",
   "execution_count": 51,
   "metadata": {},
   "outputs": [],
   "source": [
    "a = tbl_data[0]"
   ]
  },
  {
   "cell_type": "code",
   "execution_count": 52,
   "metadata": {},
   "outputs": [
    {
     "data": {
      "text/plain": [
       "[<matplotlib.lines.Line2D at 0x1a1cb4d668>]"
      ]
     },
     "execution_count": 52,
     "metadata": {},
     "output_type": "execute_result"
    },
    {
     "data": {
      "image/png": "[encoded data removed]",
      "text/plain": [
       "<Figure size 432x288 with 1 Axes>"
      ]
     },
     "metadata": {},
     "output_type": "display_data"
    }
   ],
   "source": [
    "plt.plot(a['std'])"
   ]
  },
  {
   "cell_type": "code",
   "execution_count": 123,
   "metadata": {},
   "outputs": [
    {
     "data": {
      "text/plain": [
       "ga_sol                                 94002\n",
       "ga_weight                              10003\n",
       "actual_sol                            110625\n",
       "actual_weight                          10011\n",
       "found                                     87\n",
       "time                                 3.93061\n",
       "file                    knapPI_1_2000_1000_1\n",
       "deviation                              16623\n",
       "percentage_deviation                0.150264\n",
       "Name: 7, dtype: object"
      ]
     },
     "execution_count": 123,
     "metadata": {},
     "output_type": "execute_result"
    }
   ],
   "source": [
    "df.iloc[7]"
   ]
  },
  {
   "cell_type": "code",
   "execution_count": 125,
   "metadata": {},
   "outputs": [
    {
     "data": {
      "text/plain": [
       "Text(0, 0.5, 'fitness')"
      ]
     },
     "execution_count": 125,
     "metadata": {},
     "output_type": "execute_result"
    },
    {
     "data": {
      "image/png": "[encoded data removed]",
      "text/plain": [
       "<Figure size 432x288 with 1 Axes>"
      ]
     },
     "metadata": {},
     "output_type": "display_data"
    }
   ],
   "source": [
    "plt.plot(tbl_data[7]['avg'], '--.')\n",
    "plt.xlabel(\"generations\")\n",
    "plt.ylabel(\"fitness\")"
   ]
  },
  {
   "cell_type": "code",
   "execution_count": 105,
   "metadata": {},
   "outputs": [
    {
     "data": {
      "text/html": [
       "<div>\n",
       "<style scoped>\n",
       "    .dataframe tbody tr th:only-of-type {\n",
       "        vertical-align: middle;\n",
       "    }\n",
       "\n",
       "    .dataframe tbody tr th {\n",
       "        vertical-align: top;\n",
       "    }\n",
       "\n",
       "    .dataframe thead th {\n",
       "        text-align: right;\n",
       "    }\n",
       "</style>\n",
       "<table border=\"1\" class=\"dataframe\">\n",
       "  <thead>\n",
       "    <tr style=\"text-align: right;\">\n",
       "      <th></th>\n",
       "      <th>ga_sol</th>\n",
       "      <th>ga_weight</th>\n",
       "      <th>actual_sol</th>\n",
       "      <th>actual_weight</th>\n",
       "      <th>found</th>\n",
       "      <th>time</th>\n",
       "    </tr>\n",
       "  </thead>\n",
       "  <tbody>\n",
       "    <tr>\n",
       "      <th>0</th>\n",
       "      <td>221927</td>\n",
       "      <td>24849</td>\n",
       "      <td>276457</td>\n",
       "      <td>25016</td>\n",
       "      <td>76</td>\n",
       "      <td>9.047390</td>\n",
       "    </tr>\n",
       "    <tr>\n",
       "      <th>1</th>\n",
       "      <td>1512</td>\n",
       "      <td>953</td>\n",
       "      <td>1514</td>\n",
       "      <td>991</td>\n",
       "      <td>24</td>\n",
       "      <td>0.271463</td>\n",
       "    </tr>\n",
       "    <tr>\n",
       "      <th>2</th>\n",
       "      <td>17022</td>\n",
       "      <td>10009</td>\n",
       "      <td>18051</td>\n",
       "      <td>10010</td>\n",
       "      <td>78</td>\n",
       "      <td>4.418864</td>\n",
       "    </tr>\n",
       "    <tr>\n",
       "      <th>3</th>\n",
       "      <td>2693</td>\n",
       "      <td>993</td>\n",
       "      <td>2697</td>\n",
       "      <td>997</td>\n",
       "      <td>84</td>\n",
       "      <td>0.453511</td>\n",
       "    </tr>\n",
       "    <tr>\n",
       "      <th>4</th>\n",
       "      <td>27553</td>\n",
       "      <td>2498</td>\n",
       "      <td>28857</td>\n",
       "      <td>2543</td>\n",
       "      <td>85</td>\n",
       "      <td>1.108400</td>\n",
       "    </tr>\n",
       "    <tr>\n",
       "      <th>5</th>\n",
       "      <td>11238</td>\n",
       "      <td>987</td>\n",
       "      <td>11238</td>\n",
       "      <td>987</td>\n",
       "      <td>4</td>\n",
       "      <td>0.479357</td>\n",
       "    </tr>\n",
       "    <tr>\n",
       "      <th>6</th>\n",
       "      <td>440860</td>\n",
       "      <td>49714</td>\n",
       "      <td>563647</td>\n",
       "      <td>49877</td>\n",
       "      <td>63</td>\n",
       "      <td>19.987224</td>\n",
       "    </tr>\n",
       "    <tr>\n",
       "      <th>7</th>\n",
       "      <td>94002</td>\n",
       "      <td>10003</td>\n",
       "      <td>110625</td>\n",
       "      <td>10011</td>\n",
       "      <td>87</td>\n",
       "      <td>3.930608</td>\n",
       "    </tr>\n",
       "    <tr>\n",
       "      <th>8</th>\n",
       "      <td>13376</td>\n",
       "      <td>4976</td>\n",
       "      <td>14390</td>\n",
       "      <td>4990</td>\n",
       "      <td>43</td>\n",
       "      <td>2.035377</td>\n",
       "    </tr>\n",
       "    <tr>\n",
       "      <th>9</th>\n",
       "      <td>41280</td>\n",
       "      <td>24999</td>\n",
       "      <td>44356</td>\n",
       "      <td>25016</td>\n",
       "      <td>99</td>\n",
       "      <td>10.280579</td>\n",
       "    </tr>\n",
       "    <tr>\n",
       "      <th>10</th>\n",
       "      <td>6914</td>\n",
       "      <td>2514</td>\n",
       "      <td>7117</td>\n",
       "      <td>2517</td>\n",
       "      <td>74</td>\n",
       "      <td>1.143975</td>\n",
       "    </tr>\n",
       "    <tr>\n",
       "      <th>11</th>\n",
       "      <td>81867</td>\n",
       "      <td>49703</td>\n",
       "      <td>90204</td>\n",
       "      <td>49877</td>\n",
       "      <td>76</td>\n",
       "      <td>19.911479</td>\n",
       "    </tr>\n",
       "    <tr>\n",
       "      <th>12</th>\n",
       "      <td>26016</td>\n",
       "      <td>9816</td>\n",
       "      <td>28919</td>\n",
       "      <td>9819</td>\n",
       "      <td>73</td>\n",
       "      <td>3.902142</td>\n",
       "    </tr>\n",
       "    <tr>\n",
       "      <th>13</th>\n",
       "      <td>2390</td>\n",
       "      <td>990</td>\n",
       "      <td>2397</td>\n",
       "      <td>997</td>\n",
       "      <td>22</td>\n",
       "      <td>0.238110</td>\n",
       "    </tr>\n",
       "    <tr>\n",
       "      <th>14</th>\n",
       "      <td>49987</td>\n",
       "      <td>4965</td>\n",
       "      <td>54503</td>\n",
       "      <td>5002</td>\n",
       "      <td>78</td>\n",
       "      <td>1.982884</td>\n",
       "    </tr>\n",
       "    <tr>\n",
       "      <th>15</th>\n",
       "      <td>124091</td>\n",
       "      <td>49491</td>\n",
       "      <td>146919</td>\n",
       "      <td>49519</td>\n",
       "      <td>44</td>\n",
       "      <td>19.755291</td>\n",
       "    </tr>\n",
       "    <tr>\n",
       "      <th>16</th>\n",
       "      <td>1634</td>\n",
       "      <td>1006</td>\n",
       "      <td>1634</td>\n",
       "      <td>1006</td>\n",
       "      <td>67</td>\n",
       "      <td>0.447107</td>\n",
       "    </tr>\n",
       "    <tr>\n",
       "      <th>17</th>\n",
       "      <td>62798</td>\n",
       "      <td>24798</td>\n",
       "      <td>72505</td>\n",
       "      <td>24805</td>\n",
       "      <td>64</td>\n",
       "      <td>9.706093</td>\n",
       "    </tr>\n",
       "    <tr>\n",
       "      <th>18</th>\n",
       "      <td>8761</td>\n",
       "      <td>4993</td>\n",
       "      <td>9052</td>\n",
       "      <td>5002</td>\n",
       "      <td>98</td>\n",
       "      <td>2.172500</td>\n",
       "    </tr>\n",
       "    <tr>\n",
       "      <th>19</th>\n",
       "      <td>4495</td>\n",
       "      <td>2539</td>\n",
       "      <td>4566</td>\n",
       "      <td>2543</td>\n",
       "      <td>55</td>\n",
       "      <td>1.025935</td>\n",
       "    </tr>\n",
       "    <tr>\n",
       "      <th>20</th>\n",
       "      <td>8929</td>\n",
       "      <td>972</td>\n",
       "      <td>9147</td>\n",
       "      <td>985</td>\n",
       "      <td>3</td>\n",
       "      <td>0.238681</td>\n",
       "    </tr>\n",
       "  </tbody>\n",
       "</table>\n",
       "</div>"
      ],
      "text/plain": [
       "    ga_sol  ga_weight  actual_sol  actual_weight  found       time\n",
       "0   221927      24849      276457          25016     76   9.047390\n",
       "1     1512        953        1514            991     24   0.271463\n",
       "2    17022      10009       18051          10010     78   4.418864\n",
       "3     2693        993        2697            997     84   0.453511\n",
       "4    27553       2498       28857           2543     85   1.108400\n",
       "5    11238        987       11238            987      4   0.479357\n",
       "6   440860      49714      563647          49877     63  19.987224\n",
       "7    94002      10003      110625          10011     87   3.930608\n",
       "8    13376       4976       14390           4990     43   2.035377\n",
       "9    41280      24999       44356          25016     99  10.280579\n",
       "10    6914       2514        7117           2517     74   1.143975\n",
       "11   81867      49703       90204          49877     76  19.911479\n",
       "12   26016       9816       28919           9819     73   3.902142\n",
       "13    2390        990        2397            997     22   0.238110\n",
       "14   49987       4965       54503           5002     78   1.982884\n",
       "15  124091      49491      146919          49519     44  19.755291\n",
       "16    1634       1006        1634           1006     67   0.447107\n",
       "17   62798      24798       72505          24805     64   9.706093\n",
       "18    8761       4993        9052           5002     98   2.172500\n",
       "19    4495       2539        4566           2543     55   1.025935\n",
       "20    8929        972        9147            985      3   0.238681"
      ]
     },
     "execution_count": 105,
     "metadata": {},
     "output_type": "execute_result"
    }
   ],
   "source": [
    "df = pd.DataFrame(solution_compare)\n",
    "df"
   ]
  },
  {
   "cell_type": "code",
   "execution_count": 106,
   "metadata": {},
   "outputs": [],
   "source": [
    "filenames = [\n",
    "\"knapPI_1_5000_1000_1\",\n",
    "\"knapPI_2_100_1000_1\",\n",
    "\"knapPI_2_2000_1000_1\",\n",
    "\"knapPI_3_200_1000_1\",\n",
    "\"knapPI_1_500_1000_1\",\n",
    "\"knapPI_1_200_1000_1\",\n",
    "\"knapPI_1_10000_1000_1\",\n",
    "\"knapPI_1_2000_1000_1\",\n",
    "\"knapPI_3_1000_1000_1\",\n",
    "\"knapPI_2_5000_1000_1\",\n",
    "\"knapPI_3_500_1000_1\",\n",
    "\"knapPI_2_10000_1000_1\",\n",
    "\"knapPI_3_2000_1000_1\",\n",
    "\"knapPI_3_100_1000_1\",\n",
    "\"knapPI_1_1000_1000_1\",\n",
    "\"knapPI_3_10000_1000_1\",\n",
    "\"knapPI_2_200_1000_1\",\n",
    "\"knapPI_3_5000_1000_1\",\n",
    "\"knapPI_2_1000_1000_1\",\n",
    "\"knapPI_2_500_1000_1\",\n",
    "\"knapPI_1_100_1000_1\"]"
   ]
  },
  {
   "cell_type": "code",
   "execution_count": 107,
   "metadata": {},
   "outputs": [],
   "source": [
    "df[\"file\"] = filenames\n",
    "df['deviation'] = df['actual_sol'] - df['ga_sol']\n",
    "df['percentage_deviation'] = df['deviation'] / df['actual_sol']"
   ]
  },
  {
   "cell_type": "code",
   "execution_count": 108,
   "metadata": {},
   "outputs": [],
   "source": []
  },
  {
   "cell_type": "code",
   "execution_count": 109,
   "metadata": {},
   "outputs": [
    {
     "data": {
      "text/html": [
       "<div>\n",
       "<style scoped>\n",
       "    .dataframe tbody tr th:only-of-type {\n",
       "        vertical-align: middle;\n",
       "    }\n",
       "\n",
       "    .dataframe tbody tr th {\n",
       "        vertical-align: top;\n",
       "    }\n",
       "\n",
       "    .dataframe thead th {\n",
       "        text-align: right;\n",
       "    }\n",
       "</style>\n",
       "<table border=\"1\" class=\"dataframe\">\n",
       "  <thead>\n",
       "    <tr style=\"text-align: right;\">\n",
       "      <th></th>\n",
       "      <th>ga_sol</th>\n",
       "      <th>ga_weight</th>\n",
       "      <th>actual_sol</th>\n",
       "      <th>actual_weight</th>\n",
       "      <th>found</th>\n",
       "      <th>time</th>\n",
       "      <th>file</th>\n",
       "      <th>deviation</th>\n",
       "      <th>percentage_deviation</th>\n",
       "    </tr>\n",
       "  </thead>\n",
       "  <tbody>\n",
       "    <tr>\n",
       "      <th>0</th>\n",
       "      <td>221927</td>\n",
       "      <td>24849</td>\n",
       "      <td>276457</td>\n",
       "      <td>25016</td>\n",
       "      <td>76</td>\n",
       "      <td>9.047390</td>\n",
       "      <td>knapPI_1_5000_1000_1</td>\n",
       "      <td>54530</td>\n",
       "      <td>0.197246</td>\n",
       "    </tr>\n",
       "    <tr>\n",
       "      <th>1</th>\n",
       "      <td>1512</td>\n",
       "      <td>953</td>\n",
       "      <td>1514</td>\n",
       "      <td>991</td>\n",
       "      <td>24</td>\n",
       "      <td>0.271463</td>\n",
       "      <td>knapPI_2_100_1000_1</td>\n",
       "      <td>2</td>\n",
       "      <td>0.001321</td>\n",
       "    </tr>\n",
       "    <tr>\n",
       "      <th>2</th>\n",
       "      <td>17022</td>\n",
       "      <td>10009</td>\n",
       "      <td>18051</td>\n",
       "      <td>10010</td>\n",
       "      <td>78</td>\n",
       "      <td>4.418864</td>\n",
       "      <td>knapPI_2_2000_1000_1</td>\n",
       "      <td>1029</td>\n",
       "      <td>0.057005</td>\n",
       "    </tr>\n",
       "    <tr>\n",
       "      <th>3</th>\n",
       "      <td>2693</td>\n",
       "      <td>993</td>\n",
       "      <td>2697</td>\n",
       "      <td>997</td>\n",
       "      <td>84</td>\n",
       "      <td>0.453511</td>\n",
       "      <td>knapPI_3_200_1000_1</td>\n",
       "      <td>4</td>\n",
       "      <td>0.001483</td>\n",
       "    </tr>\n",
       "    <tr>\n",
       "      <th>4</th>\n",
       "      <td>27553</td>\n",
       "      <td>2498</td>\n",
       "      <td>28857</td>\n",
       "      <td>2543</td>\n",
       "      <td>85</td>\n",
       "      <td>1.108400</td>\n",
       "      <td>knapPI_1_500_1000_1</td>\n",
       "      <td>1304</td>\n",
       "      <td>0.045188</td>\n",
       "    </tr>\n",
       "  </tbody>\n",
       "</table>\n",
       "</div>"
      ],
      "text/plain": [
       "   ga_sol  ga_weight  actual_sol  actual_weight  found      time  \\\n",
       "0  221927      24849      276457          25016     76  9.047390   \n",
       "1    1512        953        1514            991     24  0.271463   \n",
       "2   17022      10009       18051          10010     78  4.418864   \n",
       "3    2693        993        2697            997     84  0.453511   \n",
       "4   27553       2498       28857           2543     85  1.108400   \n",
       "\n",
       "                   file  deviation  percentage_deviation  \n",
       "0  knapPI_1_5000_1000_1      54530              0.197246  \n",
       "1   knapPI_2_100_1000_1          2              0.001321  \n",
       "2  knapPI_2_2000_1000_1       1029              0.057005  \n",
       "3   knapPI_3_200_1000_1          4              0.001483  \n",
       "4   knapPI_1_500_1000_1       1304              0.045188  "
      ]
     },
     "execution_count": 109,
     "metadata": {},
     "output_type": "execute_result"
    }
   ],
   "source": [
    "df.head()"
   ]
  },
  {
   "cell_type": "code",
   "execution_count": 110,
   "metadata": {},
   "outputs": [
    {
     "name": "stdout",
     "output_type": "stream",
     "text": [
      "\\begin{tabular}{lrrr}\n",
      "\\toprule\n",
      "                  file &  ga\\_sol &  actual\\_sol &  percentage\\_deviation \\\\\n",
      "\\midrule\n",
      "  knapPI\\_1\\_5000\\_1000\\_1 &  221927 &      276457 &                  0.20 \\\\\n",
      "   knapPI\\_2\\_100\\_1000\\_1 &    1512 &        1514 &                  0.00 \\\\\n",
      "  knapPI\\_2\\_2000\\_1000\\_1 &   17022 &       18051 &                  0.06 \\\\\n",
      "   knapPI\\_3\\_200\\_1000\\_1 &    2693 &        2697 &                  0.00 \\\\\n",
      "   knapPI\\_1\\_500\\_1000\\_1 &   27553 &       28857 &                  0.05 \\\\\n",
      "   knapPI\\_1\\_200\\_1000\\_1 &   11238 &       11238 &                  0.00 \\\\\n",
      " knapPI\\_1\\_10000\\_1000\\_1 &  440860 &      563647 &                  0.22 \\\\\n",
      "  knapPI\\_1\\_2000\\_1000\\_1 &   94002 &      110625 &                  0.15 \\\\\n",
      "  knapPI\\_3\\_1000\\_1000\\_1 &   13376 &       14390 &                  0.07 \\\\\n",
      "  knapPI\\_2\\_5000\\_1000\\_1 &   41280 &       44356 &                  0.07 \\\\\n",
      "   knapPI\\_3\\_500\\_1000\\_1 &    6914 &        7117 &                  0.03 \\\\\n",
      " knapPI\\_2\\_10000\\_1000\\_1 &   81867 &       90204 &                  0.09 \\\\\n",
      "  knapPI\\_3\\_2000\\_1000\\_1 &   26016 &       28919 &                  0.10 \\\\\n",
      "   knapPI\\_3\\_100\\_1000\\_1 &    2390 &        2397 &                  0.00 \\\\\n",
      "  knapPI\\_1\\_1000\\_1000\\_1 &   49987 &       54503 &                  0.08 \\\\\n",
      " knapPI\\_3\\_10000\\_1000\\_1 &  124091 &      146919 &                  0.16 \\\\\n",
      "   knapPI\\_2\\_200\\_1000\\_1 &    1634 &        1634 &                  0.00 \\\\\n",
      "  knapPI\\_3\\_5000\\_1000\\_1 &   62798 &       72505 &                  0.13 \\\\\n",
      "  knapPI\\_2\\_1000\\_1000\\_1 &    8761 &        9052 &                  0.03 \\\\\n",
      "   knapPI\\_2\\_500\\_1000\\_1 &    4495 &        4566 &                  0.02 \\\\\n",
      "   knapPI\\_1\\_100\\_1000\\_1 &    8929 &        9147 &                  0.02 \\\\\n",
      "\\bottomrule\n",
      "\\end{tabular}\n",
      "\n"
     ]
    }
   ],
   "source": [
    "print(df[['file','ga_sol', 'actual_sol', 'percentage_deviation']].to_latex(index=False, float_format=\"%.2f\"))"
   ]
  },
  {
   "cell_type": "code",
   "execution_count": 111,
   "metadata": {},
   "outputs": [],
   "source": [
    "# print(df.to_latex())"
   ]
  },
  {
   "cell_type": "code",
   "execution_count": 126,
   "metadata": {},
   "outputs": [
    {
     "name": "stdout",
     "output_type": "stream",
     "text": [
      "\\begin{tabular}{lrrrr}\n",
      "\\toprule\n",
      "                  file &  found &  ga\\_weight &  actual\\_weight &  time \\\\\n",
      "\\midrule\n",
      "  knapPI\\_1\\_5000\\_1000\\_1 &     76 &      24849 &          25016 &  9.05 \\\\\n",
      "   knapPI\\_2\\_100\\_1000\\_1 &     24 &        953 &            991 &  0.27 \\\\\n",
      "  knapPI\\_2\\_2000\\_1000\\_1 &     78 &      10009 &          10010 &  4.42 \\\\\n",
      "   knapPI\\_3\\_200\\_1000\\_1 &     84 &        993 &            997 &  0.45 \\\\\n",
      "   knapPI\\_1\\_500\\_1000\\_1 &     85 &       2498 &           2543 &  1.11 \\\\\n",
      "   knapPI\\_1\\_200\\_1000\\_1 &      4 &        987 &            987 &  0.48 \\\\\n",
      " knapPI\\_1\\_10000\\_1000\\_1 &     63 &      49714 &          49877 & 19.99 \\\\\n",
      "  knapPI\\_1\\_2000\\_1000\\_1 &     87 &      10003 &          10011 &  3.93 \\\\\n",
      "  knapPI\\_3\\_1000\\_1000\\_1 &     43 &       4976 &           4990 &  2.04 \\\\\n",
      "  knapPI\\_2\\_5000\\_1000\\_1 &     99 &      24999 &          25016 & 10.28 \\\\\n",
      "   knapPI\\_3\\_500\\_1000\\_1 &     74 &       2514 &           2517 &  1.14 \\\\\n",
      " knapPI\\_2\\_10000\\_1000\\_1 &     76 &      49703 &          49877 & 19.91 \\\\\n",
      "  knapPI\\_3\\_2000\\_1000\\_1 &     73 &       9816 &           9819 &  3.90 \\\\\n",
      "   knapPI\\_3\\_100\\_1000\\_1 &     22 &        990 &            997 &  0.24 \\\\\n",
      "  knapPI\\_1\\_1000\\_1000\\_1 &     78 &       4965 &           5002 &  1.98 \\\\\n",
      " knapPI\\_3\\_10000\\_1000\\_1 &     44 &      49491 &          49519 & 19.76 \\\\\n",
      "   knapPI\\_2\\_200\\_1000\\_1 &     67 &       1006 &           1006 &  0.45 \\\\\n",
      "  knapPI\\_3\\_5000\\_1000\\_1 &     64 &      24798 &          24805 &  9.71 \\\\\n",
      "  knapPI\\_2\\_1000\\_1000\\_1 &     98 &       4993 &           5002 &  2.17 \\\\\n",
      "   knapPI\\_2\\_500\\_1000\\_1 &     55 &       2539 &           2543 &  1.03 \\\\\n",
      "   knapPI\\_1\\_100\\_1000\\_1 &      3 &        972 &            985 &  0.24 \\\\\n",
      "\\bottomrule\n",
      "\\end{tabular}\n",
      "\n"
     ]
    }
   ],
   "source": [
    "print(df[['file','found', 'ga_weight', 'actual_weight','time']].to_latex(index=False, float_format=\"%.2f\"))"
   ]
  },
  {
   "cell_type": "markdown",
   "metadata": {},
   "source": [
    "## experiemt with pop size 100"
   ]
  },
  {
   "cell_type": "code",
   "execution_count": 127,
   "metadata": {},
   "outputs": [
    {
     "name": "stdout",
     "output_type": "stream",
     "text": [
      "knapPI_1_5000_1000_1\n",
      "knapPI_2_100_1000_1\n",
      "knapPI_2_2000_1000_1\n",
      "knapPI_3_200_1000_1\n",
      "knapPI_1_500_1000_1\n",
      "knapPI_1_200_1000_1\n",
      "knapPI_1_10000_1000_1\n",
      "knapPI_1_2000_1000_1\n",
      "knapPI_3_1000_1000_1\n",
      "knapPI_2_5000_1000_1\n",
      "knapPI_3_500_1000_1\n",
      "knapPI_2_10000_1000_1\n",
      "knapPI_3_2000_1000_1\n",
      "knapPI_3_100_1000_1\n",
      "knapPI_1_1000_1000_1\n",
      "knapPI_3_10000_1000_1\n",
      "knapPI_2_200_1000_1\n",
      "knapPI_3_5000_1000_1\n",
      "knapPI_2_1000_1000_1\n",
      "knapPI_2_500_1000_1\n",
      "knapPI_1_100_1000_1\n"
     ]
    }
   ],
   "source": [
    "tbl_data, solution_compare = Test.testGA(pop_size=100)"
   ]
  },
  {
   "cell_type": "code",
   "execution_count": 128,
   "metadata": {},
   "outputs": [
    {
     "data": {
      "text/html": [
       "<div>\n",
       "<style scoped>\n",
       "    .dataframe tbody tr th:only-of-type {\n",
       "        vertical-align: middle;\n",
       "    }\n",
       "\n",
       "    .dataframe tbody tr th {\n",
       "        vertical-align: top;\n",
       "    }\n",
       "\n",
       "    .dataframe thead th {\n",
       "        text-align: right;\n",
       "    }\n",
       "</style>\n",
       "<table border=\"1\" class=\"dataframe\">\n",
       "  <thead>\n",
       "    <tr style=\"text-align: right;\">\n",
       "      <th></th>\n",
       "      <th>ga_sol</th>\n",
       "      <th>ga_weight</th>\n",
       "      <th>actual_sol</th>\n",
       "      <th>actual_weight</th>\n",
       "      <th>found</th>\n",
       "      <th>time</th>\n",
       "    </tr>\n",
       "  </thead>\n",
       "  <tbody>\n",
       "    <tr>\n",
       "      <th>0</th>\n",
       "      <td>234227</td>\n",
       "      <td>24895</td>\n",
       "      <td>276457</td>\n",
       "      <td>25016</td>\n",
       "      <td>91</td>\n",
       "      <td>93.592772</td>\n",
       "    </tr>\n",
       "    <tr>\n",
       "      <th>1</th>\n",
       "      <td>1512</td>\n",
       "      <td>953</td>\n",
       "      <td>1514</td>\n",
       "      <td>991</td>\n",
       "      <td>4</td>\n",
       "      <td>2.150111</td>\n",
       "    </tr>\n",
       "    <tr>\n",
       "      <th>2</th>\n",
       "      <td>17506</td>\n",
       "      <td>9994</td>\n",
       "      <td>18051</td>\n",
       "      <td>10010</td>\n",
       "      <td>83</td>\n",
       "      <td>39.786512</td>\n",
       "    </tr>\n",
       "    <tr>\n",
       "      <th>3</th>\n",
       "      <td>2696</td>\n",
       "      <td>996</td>\n",
       "      <td>2697</td>\n",
       "      <td>997</td>\n",
       "      <td>2</td>\n",
       "      <td>4.362615</td>\n",
       "    </tr>\n",
       "    <tr>\n",
       "      <th>4</th>\n",
       "      <td>28834</td>\n",
       "      <td>2528</td>\n",
       "      <td>28857</td>\n",
       "      <td>2543</td>\n",
       "      <td>28</td>\n",
       "      <td>10.496579</td>\n",
       "    </tr>\n",
       "  </tbody>\n",
       "</table>\n",
       "</div>"
      ],
      "text/plain": [
       "   ga_sol  ga_weight  actual_sol  actual_weight  found       time\n",
       "0  234227      24895      276457          25016     91  93.592772\n",
       "1    1512        953        1514            991      4   2.150111\n",
       "2   17506       9994       18051          10010     83  39.786512\n",
       "3    2696        996        2697            997      2   4.362615\n",
       "4   28834       2528       28857           2543     28  10.496579"
      ]
     },
     "execution_count": 128,
     "metadata": {},
     "output_type": "execute_result"
    }
   ],
   "source": [
    "df = pd.DataFrame(solution_compare)\n",
    "df.head()"
   ]
  },
  {
   "cell_type": "code",
   "execution_count": 129,
   "metadata": {},
   "outputs": [],
   "source": [
    "df[\"file\"] = filenames\n",
    "df['deviation'] = df['actual_sol'] - df['ga_sol']\n",
    "df['percentage_deviation'] = df['deviation'] / df['actual_sol']"
   ]
  },
  {
   "cell_type": "code",
   "execution_count": 130,
   "metadata": {},
   "outputs": [
    {
     "name": "stdout",
     "output_type": "stream",
     "text": [
      "\\begin{tabular}{lrrr}\n",
      "\\toprule\n",
      "                  file &  ga\\_sol &  actual\\_sol &  percentage\\_deviation \\\\\n",
      "\\midrule\n",
      "  knapPI\\_1\\_5000\\_1000\\_1 &  234227 &      276457 &                  0.15 \\\\\n",
      "   knapPI\\_2\\_100\\_1000\\_1 &    1512 &        1514 &                  0.00 \\\\\n",
      "  knapPI\\_2\\_2000\\_1000\\_1 &   17506 &       18051 &                  0.03 \\\\\n",
      "   knapPI\\_3\\_200\\_1000\\_1 &    2696 &        2697 &                  0.00 \\\\\n",
      "   knapPI\\_1\\_500\\_1000\\_1 &   28834 &       28857 &                  0.00 \\\\\n",
      "   knapPI\\_1\\_200\\_1000\\_1 &   11238 &       11238 &                  0.00 \\\\\n",
      " knapPI\\_1\\_10000\\_1000\\_1 &  456254 &      563647 &                  0.19 \\\\\n",
      "  knapPI\\_1\\_2000\\_1000\\_1 &  102992 &      110625 &                  0.07 \\\\\n",
      "  knapPI\\_3\\_1000\\_1000\\_1 &   13971 &       14390 &                  0.03 \\\\\n",
      "  knapPI\\_2\\_5000\\_1000\\_1 &   42101 &       44356 &                  0.05 \\\\\n",
      "   knapPI\\_3\\_500\\_1000\\_1 &    7016 &        7117 &                  0.01 \\\\\n",
      " knapPI\\_2\\_10000\\_1000\\_1 &   83179 &       90204 &                  0.08 \\\\\n",
      "  knapPI\\_3\\_2000\\_1000\\_1 &   26818 &       28919 &                  0.07 \\\\\n",
      "   knapPI\\_3\\_100\\_1000\\_1 &    2396 &        2397 &                  0.00 \\\\\n",
      "  knapPI\\_1\\_1000\\_1000\\_1 &   52614 &       54503 &                  0.03 \\\\\n",
      " knapPI\\_3\\_10000\\_1000\\_1 &  127090 &      146919 &                  0.13 \\\\\n",
      "   knapPI\\_2\\_200\\_1000\\_1 &    1634 &        1634 &                  0.00 \\\\\n",
      "  knapPI\\_3\\_5000\\_1000\\_1 &   64392 &       72505 &                  0.11 \\\\\n",
      "  knapPI\\_2\\_1000\\_1000\\_1 &    8928 &        9052 &                  0.01 \\\\\n",
      "   knapPI\\_2\\_500\\_1000\\_1 &    4557 &        4566 &                  0.00 \\\\\n",
      "   knapPI\\_1\\_100\\_1000\\_1 &    9147 &        9147 &                  0.00 \\\\\n",
      "\\bottomrule\n",
      "\\end{tabular}\n",
      "\n"
     ]
    }
   ],
   "source": [
    "print(df[['file','ga_sol', 'actual_sol', 'percentage_deviation']].to_latex(index=False, float_format=\"%.2f\"))"
   ]
  },
  {
   "cell_type": "code",
   "execution_count": 131,
   "metadata": {},
   "outputs": [
    {
     "name": "stdout",
     "output_type": "stream",
     "text": [
      "\\begin{tabular}{lrrrr}\n",
      "\\toprule\n",
      "                  file &  found &  ga\\_weight &  actual\\_weight &   time \\\\\n",
      "\\midrule\n",
      "  knapPI\\_1\\_5000\\_1000\\_1 &     91 &      24895 &          25016 &  93.59 \\\\\n",
      "   knapPI\\_2\\_100\\_1000\\_1 &      4 &        953 &            991 &   2.15 \\\\\n",
      "  knapPI\\_2\\_2000\\_1000\\_1 &     83 &       9994 &          10010 &  39.79 \\\\\n",
      "   knapPI\\_3\\_200\\_1000\\_1 &      2 &        996 &            997 &   4.36 \\\\\n",
      "   knapPI\\_1\\_500\\_1000\\_1 &     28 &       2528 &           2543 &  10.50 \\\\\n",
      "   knapPI\\_1\\_200\\_1000\\_1 &      9 &        987 &            987 &   4.21 \\\\\n",
      " knapPI\\_1\\_10000\\_1000\\_1 &     37 &      49726 &          49877 & 202.95 \\\\\n",
      "  knapPI\\_1\\_2000\\_1000\\_1 &     77 &       9998 &          10011 &  39.80 \\\\\n",
      "  knapPI\\_3\\_1000\\_1000\\_1 &     75 &       4971 &           4990 &  19.46 \\\\\n",
      "  knapPI\\_2\\_5000\\_1000\\_1 &     33 &      24999 &          25016 &  99.27 \\\\\n",
      "   knapPI\\_3\\_500\\_1000\\_1 &     14 &       2516 &           2517 &   9.80 \\\\\n",
      " knapPI\\_2\\_10000\\_1000\\_1 &     28 &      49875 &          49877 & 201.76 \\\\\n",
      "  knapPI\\_3\\_2000\\_1000\\_1 &     97 &       9818 &           9819 &  39.18 \\\\\n",
      "   knapPI\\_3\\_100\\_1000\\_1 &     10 &        996 &            997 &   2.27 \\\\\n",
      "  knapPI\\_1\\_1000\\_1000\\_1 &     69 &       4996 &           5002 &  20.34 \\\\\n",
      " knapPI\\_3\\_10000\\_1000\\_1 &     69 &      49390 &          49519 & 220.02 \\\\\n",
      "   knapPI\\_2\\_200\\_1000\\_1 &      2 &       1006 &           1006 &   4.26 \\\\\n",
      "  knapPI\\_3\\_5000\\_1000\\_1 &     17 &      24792 &          24805 &  95.54 \\\\\n",
      "  knapPI\\_2\\_1000\\_1000\\_1 &     28 &       4995 &           5002 &  19.82 \\\\\n",
      "   knapPI\\_2\\_500\\_1000\\_1 &     37 &       2539 &           2543 &   9.82 \\\\\n",
      "   knapPI\\_1\\_100\\_1000\\_1 &      1 &        985 &            985 &   2.11 \\\\\n",
      "\\bottomrule\n",
      "\\end{tabular}\n",
      "\n"
     ]
    }
   ],
   "source": [
    "print(df[['file','found', 'ga_weight', 'actual_weight','time']].to_latex(index=False, float_format=\"%.2f\"))"
   ]
  },
  {
   "cell_type": "code",
   "execution_count": 10,
   "metadata": {},
   "outputs": [],
   "source": [
    "import numpy as np\n",
    "import matplotlib.pyplot as plt"
   ]
  },
  {
   "cell_type": "code",
   "execution_count": 7,
   "metadata": {},
   "outputs": [
    {
     "name": "stdout",
     "output_type": "stream",
     "text": [
      "min dist: 3099.631537437439\n",
      "found at round: 276\n"
     ]
    }
   ],
   "source": [
    "\n",
    "from TSPGA import get_problem2, TSPGA\n",
    "problem = get_problem2()\n",
    "\n",
    "# print(len(problem))\n",
    "ga = TSPGA(pop_size=300, max_iter=300, p_c=0.5, p_m=0.5, debug=False,greedy_intialize_population=True, selection_method='rws', tournament_size =2, record_intermediate=True)\n",
    "# ga = TSPGA(pop_size=5000, max_iter=300, p_c=0.2, p_m=0.5)\n",
    "min_dist, sol, round_found = ga.solve(problem)\n",
    "\n",
    "#   ga = TSPGA(pop_size=100, max_iter=10000, p_c=0.5, p_m=0.5, greedy_intialize_population=False, selection_method='tournament', tournament_size=2,debug=False)\n",
    "\n",
    "# print(f\"minimum distance of tour according to solution: {get_min_distance(ga.M, tour)}\")\n",
    "\n",
    "print(f\"min dist: {min_dist}\")\n",
    "# print(f\"found tour (start index 1): {sol + 1}\")\n",
    "print(f\"found at round: {round_found}\")\n"
   ]
  },
  {
   "cell_type": "code",
   "execution_count": 14,
   "metadata": {},
   "outputs": [],
   "source": [
    "from util import read_tsp_solution\n",
    "import os"
   ]
  },
  {
   "cell_type": "code",
   "execution_count": 15,
   "metadata": {},
   "outputs": [],
   "source": [
    "file_name = 'a280'\n",
    "data_dir = 'data/tsp'\n",
    "solution_name = 'a280_optimal'\n",
    "tour = read_tsp_solution(os.path.join(data_dir, solution_name))\n",
    "# problem = read_problem_tsp(os.path.join(data_dir, file_name))\n",
    "# problem = np.array(problem)"
   ]
  },
  {
   "cell_type": "code",
   "execution_count": 17,
   "metadata": {},
   "outputs": [],
   "source": [
    "tour = np.array(tour)-1"
   ]
  },
  {
   "cell_type": "code",
   "execution_count": 18,
   "metadata": {},
   "outputs": [
    {
     "data": {
      "image/png": "[encoded data removed]",
      "text/plain": [
       "<Figure size 432x288 with 1 Axes>"
      ]
     },
     "metadata": {
      "needs_background": "light"
     },
     "output_type": "display_data"
    }
   ],
   "source": [
    "plot_solution(problem, tour)"
   ]
  },
  {
   "cell_type": "code",
   "execution_count": 8,
   "metadata": {},
   "outputs": [],
   "source": [
    "def plot_solution(problem, sol):\n",
    "    x = problem[sol][:,1:][:,0]\n",
    "    y = problem[sol][:,1:][:,1]\n",
    "    plt.plot(x,y, 'o-')"
   ]
  },
  {
   "cell_type": "code",
   "execution_count": 11,
   "metadata": {},
   "outputs": [
    {
     "data": {
      "image/png": "[encoded data removed]",
      "text/plain": [
       "<Figure size 432x288 with 1 Axes>"
      ]
     },
     "metadata": {
      "needs_background": "light"
     },
     "output_type": "display_data"
    }
   ],
   "source": [
    "plot_solution(problem, sol)"
   ]
  },
  {
   "cell_type": "code",
   "execution_count": 33,
   "metadata": {},
   "outputs": [
    {
     "data": {
      "text/plain": [
       "[<matplotlib.lines.Line2D at 0x113da4908>]"
      ]
     },
     "execution_count": 33,
     "metadata": {},
     "output_type": "execute_result"
    },
    {
     "data": {
      "image/png": "[encoded data removed]",
      "text/plain": [
       "<Figure size 432x288 with 1 Axes>"
      ]
     },
     "metadata": {
      "needs_background": "light"
     },
     "output_type": "display_data"
    }
   ],
   "source": [
    "plt.plot(ga.epoch_info['avg'])"
   ]
  },
  {
   "cell_type": "code",
   "execution_count": 7,
   "metadata": {},
   "outputs": [],
   "source": []
  },
  {
   "cell_type": "code",
   "execution_count": 26,
   "metadata": {},
   "outputs": [
    {
     "data": {
      "text/plain": [
       "[<matplotlib.lines.Line2D at 0x113d276d8>]"
      ]
     },
     "execution_count": 26,
     "metadata": {},
     "output_type": "execute_result"
    },
    {
     "data": {
      "image/png": "[encoded data removed]",
      "text/plain": [
       "<Figure size 432x288 with 1 Axes>"
      ]
     },
     "metadata": {
      "needs_background": "light"
     },
     "output_type": "display_data"
    }
   ],
   "source": [
    "x = problem[sol][:,1:][:,0]\n",
    "y = problem[sol][:,1:][:,1]\n",
    "plt.plot(x,y, 'o-')"
   ]
  },
  {
   "cell_type": "code",
   "execution_count": 27,
   "metadata": {},
   "outputs": [
    {
     "data": {
      "text/plain": [
       "{'std': [], 'avg': []}"
      ]
     },
     "execution_count": 27,
     "metadata": {},
     "output_type": "execute_result"
    }
   ],
   "source": [
    "ga.epoch_info"
   ]
  },
  {
   "cell_type": "code",
   "execution_count": 14,
   "metadata": {},
   "outputs": [
    {
     "ename": "ValueError",
     "evalue": "too many values to unpack (expected 2)",
     "output_type": "error",
     "traceback": [
      "\u001b[0;31m---------------------------------------------------------------------------\u001b[0m",
      "\u001b[0;31mValueError\u001b[0m                                Traceback (most recent call last)",
      "\u001b[0;32m<ipython-input-14-3c892fd6a0b4>\u001b[0m in \u001b[0;36m<module>\u001b[0;34m\u001b[0m\n\u001b[0;32m----> 1\u001b[0;31m \u001b[0mx\u001b[0m\u001b[0;34m,\u001b[0m\u001b[0my\u001b[0m \u001b[0;34m=\u001b[0m \u001b[0mlist\u001b[0m\u001b[0;34m(\u001b[0m\u001b[0mzip\u001b[0m\u001b[0;34m(\u001b[0m\u001b[0mproblem\u001b[0m\u001b[0;34m[\u001b[0m\u001b[0msol\u001b[0m\u001b[0;34m]\u001b[0m\u001b[0;34m[\u001b[0m\u001b[0;36m1\u001b[0m\u001b[0;34m:\u001b[0m\u001b[0;34m]\u001b[0m\u001b[0;34m)\u001b[0m\u001b[0;34m)\u001b[0m\u001b[0;34m\u001b[0m\u001b[0;34m\u001b[0m\u001b[0m\n\u001b[0m\u001b[1;32m      2\u001b[0m \u001b[0mplt\u001b[0m\u001b[0;34m.\u001b[0m\u001b[0mplot\u001b[0m\u001b[0;34m(\u001b[0m\u001b[0mx\u001b[0m\u001b[0;34m,\u001b[0m\u001b[0my\u001b[0m\u001b[0;34m,\u001b[0m \u001b[0;34m'o-'\u001b[0m\u001b[0;34m)\u001b[0m\u001b[0;34m\u001b[0m\u001b[0;34m\u001b[0m\u001b[0m\n",
      "\u001b[0;31mValueError\u001b[0m: too many values to unpack (expected 2)"
     ]
    }
   ],
   "source": [
    "x,y = list(zip(problem[sol][1:]))\n",
    "plt.plot(x,y, 'o-')"
   ]
  },
  {
   "cell_type": "code",
   "execution_count": null,
   "metadata": {},
   "outputs": [],
   "source": []
  }
 ],
 "metadata": {
  "kernelspec": {
   "display_name": "Python 3",
   "language": "python",
   "name": "python3"
  },
  "language_info": {
   "codemirror_mode": {
    "name": "ipython",
    "version": 3
   },
   "file_extension": ".py",
   "mimetype": "text/x-python",
   "name": "python",
   "nbconvert_exporter": "python",
   "pygments_lexer": "ipython3",
   "version": "3.6.12"
  }
 },
 "nbformat": 4,
 "nbformat_minor": 4
}
